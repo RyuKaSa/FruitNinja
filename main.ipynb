{
 "cells": [
  {
   "cell_type": "code",
   "execution_count": 9,
   "metadata": {},
   "outputs": [
    {
     "name": "stdout",
     "output_type": "stream",
     "text": [
      "WARNING  'source' is missing. Using 'source=C:\\Users\\willi\\AppData\\Roaming\\Python\\Python311\\site-packages\\ultralytics\\assets'.\n",
      "\n",
      "image 1/2 C:\\Users\\willi\\AppData\\Roaming\\Python\\Python311\\site-packages\\ultralytics\\assets\\bus.jpg: 640x480 3 persons, 1 bus, 44.6ms\n",
      "image 2/2 C:\\Users\\willi\\AppData\\Roaming\\Python\\Python311\\site-packages\\ultralytics\\assets\\zidane.jpg: 384x640 2 persons, 39.5ms\n",
      "Speed: 1.5ms preprocess, 42.1ms inference, 0.7ms postprocess per image at shape (1, 3, 384, 640)\n"
     ]
    }
   ],
   "source": [
    "# imports for the YOLO model\n",
    "from ultralytics import YOLO\n",
    "import cv2\n",
    "import numpy as np\n",
    "\n",
    "# imports for the image recognition model\n",
    "# we try the yolo detect model with tracking mode\n",
    "model = (YOLO('yolov8n.pt').track())\n"
   ]
  },
  {
   "cell_type": "code",
   "execution_count": null,
   "metadata": {},
   "outputs": [],
   "source": [
    "results = model('test_footage/', show=False, conf=0.4, save=True)"
   ]
  }
 ],
 "metadata": {
  "kernelspec": {
   "display_name": "base",
   "language": "python",
   "name": "python3"
  },
  "language_info": {
   "codemirror_mode": {
    "name": "ipython",
    "version": 3
   },
   "file_extension": ".py",
   "mimetype": "text/x-python",
   "name": "python",
   "nbconvert_exporter": "python",
   "pygments_lexer": "ipython3",
   "version": "3.11.5"
  }
 },
 "nbformat": 4,
 "nbformat_minor": 2
}
